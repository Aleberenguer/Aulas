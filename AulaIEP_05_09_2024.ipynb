{
  "nbformat": 4,
  "nbformat_minor": 0,
  "metadata": {
    "colab": {
      "provenance": []
    },
    "kernelspec": {
      "name": "python3",
      "display_name": "Python 3"
    },
    "language_info": {
      "name": "python"
    }
  },
  "cells": [
    {
      "cell_type": "code",
      "execution_count": 1,
      "metadata": {
        "colab": {
          "base_uri": "https://localhost:8080/"
        },
        "id": "2DKNz407nqQL",
        "outputId": "ef2364b3-ae41-46aa-bb24-11bd277b5078"
      },
      "outputs": [
        {
          "output_type": "stream",
          "name": "stdout",
          "text": [
            "Requirement already satisfied: mip in /usr/local/lib/python3.10/dist-packages (1.15.0)\n",
            "Requirement already satisfied: cffi==1.15.* in /usr/local/lib/python3.10/dist-packages (from mip) (1.15.1)\n",
            "Requirement already satisfied: pycparser in /usr/local/lib/python3.10/dist-packages (from cffi==1.15.*->mip) (2.22)\n"
          ]
        }
      ],
      "source": [
        "# Instalacao do Python-MIP\n",
        "# https://www.python-mip.com/\n",
        "# Biblioteca de implementacao de modelos matematicos\n",
        "!pip install mip"
      ]
    },
    {
      "cell_type": "code",
      "source": [
        "#Highs: Solver open-source\n",
        "!pip install highspy"
      ],
      "metadata": {
        "colab": {
          "base_uri": "https://localhost:8080/"
        },
        "id": "7leA3DwlpfyI",
        "outputId": "ce4e8eb0-3592-4c3d-8fe1-c6c33e104117"
      },
      "execution_count": 2,
      "outputs": [
        {
          "output_type": "stream",
          "name": "stdout",
          "text": [
            "Collecting highspy\n",
            "  Downloading highspy-1.7.2-cp310-cp310-manylinux_2_17_x86_64.manylinux2014_x86_64.whl.metadata (10 kB)\n",
            "Requirement already satisfied: numpy in /usr/local/lib/python3.10/dist-packages (from highspy) (1.26.4)\n",
            "Downloading highspy-1.7.2-cp310-cp310-manylinux_2_17_x86_64.manylinux2014_x86_64.whl (2.1 MB)\n",
            "\u001b[?25l   \u001b[90m━━━━━━━━━━━━━━━━━━━━━━━━━━━━━━━━━━━━━━━━\u001b[0m \u001b[32m0.0/2.1 MB\u001b[0m \u001b[31m?\u001b[0m eta \u001b[36m-:--:--\u001b[0m\r\u001b[2K   \u001b[91m━━━━━━━━━━\u001b[0m\u001b[91m╸\u001b[0m\u001b[90m━━━━━━━━━━━━━━━━━━━━━━━━━━━━━\u001b[0m \u001b[32m0.6/2.1 MB\u001b[0m \u001b[31m16.5 MB/s\u001b[0m eta \u001b[36m0:00:01\u001b[0m\r\u001b[2K   \u001b[91m━━━━━━━━━━━━━━━━━━━━━━━━━━━━━━━━━━━━━━━\u001b[0m\u001b[91m╸\u001b[0m \u001b[32m2.1/2.1 MB\u001b[0m \u001b[31m37.1 MB/s\u001b[0m eta \u001b[36m0:00:01\u001b[0m\r\u001b[2K   \u001b[90m━━━━━━━━━━━━━━━━━━━━━━━━━━━━━━━━━━━━━━━━\u001b[0m \u001b[32m2.1/2.1 MB\u001b[0m \u001b[31m25.2 MB/s\u001b[0m eta \u001b[36m0:00:00\u001b[0m\n",
            "\u001b[?25hInstalling collected packages: highspy\n",
            "Successfully installed highspy-1.7.2\n"
          ]
        }
      ]
    },
    {
      "cell_type": "code",
      "source": [
        "from mip import * # Importando o Python-MIP para ser utilizado\n",
        "\n",
        "# Organizando dados do problema\n",
        "peso = [2, 3, 4, 5, 6, 7, 8, 9]\n",
        "\n",
        "valor = [8, 12, 10, 9, 14, 13, 15, 20]\n",
        "\n",
        "capacidade = 15\n",
        "\n",
        "n_itens = len(peso) # Numero de itens = Numero de elementos na lista 'peso'\n",
        "\n",
        "\n",
        "# Implementando o modelo\n",
        "\n",
        "m = Model(sense=MAXIMIZE, solver_name=\"HiGHS\")\n",
        "\n",
        "# Criacao das variaveis\n",
        "x = [m.add_var(var_type = BINARY, name=f\"x({i+1})\") for i in range(n_itens)]\n",
        "\n",
        "# Funcao objetivo\n",
        "m.objective = xsum(valor[i] * x[i] for i in range(n_itens))\n",
        "\n",
        "# Restricao\n",
        "m += xsum( peso[i] * x[i] for i in range(n_itens)) <= capacidade, f\"Capacidade\"\n",
        "\n",
        "# Resolver problema\n",
        "status = m.optimize()\n",
        "\n",
        "print(f\"Status do Problema: {status}\")\n",
        "\n",
        "valor_total = m.objective_value\n",
        "print(f\"valor total = {valor_total}\")\n",
        "\n",
        "print(\"Itens selecionados:\")\n",
        "for i in range(n_itens):\n",
        "    if x[i].x > 0:\n",
        "        print(f\"Item {i+1}\")"
      ],
      "metadata": {
        "colab": {
          "base_uri": "https://localhost:8080/"
        },
        "id": "7QISsC92pwGX",
        "outputId": "39deea68-2fa9-490f-8a5a-7bbac2f48e90"
      },
      "execution_count": 3,
      "outputs": [
        {
          "output_type": "stream",
          "name": "stdout",
          "text": [
            "Status do Problema: OptimizationStatus.OPTIMAL\n",
            "valor total = 44.0\n",
            "Itens selecionados:\n",
            "Item 1\n",
            "Item 2\n",
            "Item 3\n",
            "Item 5\n"
          ]
        }
      ]
    }
  ]
}